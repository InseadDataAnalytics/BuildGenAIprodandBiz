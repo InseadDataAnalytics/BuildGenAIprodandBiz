{
 "cells": [
  {
   "cell_type": "code",
   "execution_count": null,
   "metadata": {},
   "outputs": [],
   "source": [
    "import tokenize\n",
    "import io\n",
    "\n",
    "def count_function_tokens(code):\n",
    "    tokens = tokenize.generate_tokens(io.StringIO(code).readline)\n",
    "    return sum(1 for token in tokens if token.type == tokenize.NAME and token.string == 'def')\n",
    "\n",
    "# Test the function\n",
    "code = \"\"\"\n",
    "def function1():\n",
    "    pass\n",
    "\n",
    "def function2():\n",
    "    pass\n",
    "\"\"\"\n",
    "\n",
    "print(count_function_tokens(code))  # Output: 2"
   ]
  },
  {
   "cell_type": "code",
   "execution_count": null,
   "metadata": {},
   "outputs": [],
   "source": [
    "!python --version  # prints the Python version"
   ]
  },
  {
   "cell_type": "markdown",
   "metadata": {},
   "source": [
    "Count your number of characters"
   ]
  },
  {
   "cell_type": "code",
   "execution_count": null,
   "metadata": {},
   "outputs": [],
   "source": [
    "def countCharacter (input,dalleVersion):\n",
    "            if dalleVersion == \"dall-e-2\":\n",
    "                numberCharacter = 1000\n",
    "            else:\n",
    "                numberCharacter = 4000\n",
    "\n",
    "            if len(input) > numberCharacter:\n",
    "                    return \"Input is too long! Maximum length is \"+numberCharacter+\" characters.\"\n",
    "            else:\n",
    "        \n",
    "             return input"
   ]
  }
 ],
 "metadata": {
  "language_info": {
   "name": "python"
  }
 },
 "nbformat": 4,
 "nbformat_minor": 2
}
