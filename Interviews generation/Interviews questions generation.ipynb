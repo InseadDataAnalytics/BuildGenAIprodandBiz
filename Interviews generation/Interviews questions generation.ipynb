{
 "cells": [
  {
   "cell_type": "markdown",
   "id": "8a157fb8",
   "metadata": {},
   "source": [
    "# Interviews questions generation with Open AI"
   ]
  },
  {
   "cell_type": "markdown",
   "metadata": {},
   "source": [
    "- You have to install the minimal libray to use this notebook :\n",
    "-- openai ( major version 1.x )\n",
    "-- dotenv ( to loading secrets key and information in you secrets.env file )"
   ]
  },
  {
   "cell_type": "code",
   "execution_count": 3,
   "metadata": {},
   "outputs": [],
   "source": [
    "#%pip install openai --upgrade\n",
    "#% pip install dotenv, datetime"
   ]
  },
  {
   "cell_type": "code",
   "execution_count": 1,
   "id": "e08cdbd6",
   "metadata": {},
   "outputs": [],
   "source": [
    "import datetime\n",
    "import openai\n",
    "import os\n",
    "import sys\n",
    "\n",
    "from dotenv import load_dotenv"
   ]
  },
  {
   "cell_type": "code",
   "execution_count": 2,
   "id": "14be4f9e",
   "metadata": {},
   "outputs": [
    {
     "data": {
      "text/plain": [
       "'3.10.10 (main, Mar 21 2023, 18:45:11) [GCC 11.2.0]'"
      ]
     },
     "execution_count": 2,
     "metadata": {},
     "output_type": "execute_result"
    }
   ],
   "source": [
    "sys.version"
   ]
  },
  {
   "cell_type": "code",
   "execution_count": 3,
   "id": "77c69ef6",
   "metadata": {},
   "outputs": [
    {
     "name": "stdout",
     "output_type": "stream",
     "text": [
      "Today is 09-Nov-2023 09:37:27\n"
     ]
    }
   ],
   "source": [
    "print(f\"Today is {datetime.datetime.today().strftime('%d-%b-%Y %H:%M:%S')}\")"
   ]
  },
  {
   "cell_type": "code",
   "execution_count": 4,
   "id": "55d27ebf",
   "metadata": {},
   "outputs": [
    {
     "name": "stdout",
     "output_type": "stream",
     "text": [
      "Open AI version: 0.28.1\n"
     ]
    }
   ],
   "source": [
    "load_dotenv(\"secrets.env\")\n",
    "\n",
    "\n",
    "# Import Key and Base from .env\n",
    "openai.api_key = os.getenv(\"OPENAI_API_KEY\")\n",
    "openai.api_base = os.getenv(\"OPENAI_API_BASE\") #not relevant with the new library\n",
    "openai.organization = os.getenv(\"OPENAI_ORGANIZATION\")\n"
   ]
  },
  {
   "cell_type": "markdown",
   "id": "87d3bd2b",
   "metadata": {},
   "source": [
    "## Function"
   ]
  },
  {
   "cell_type": "code",
   "execution_count": 5,
   "id": "ed7bc8a5",
   "metadata": {},
   "outputs": [],
   "source": [
    "def ask(query):\n",
    "\n",
    "    # Create the client with params for OpenAI API\n",
    "\n",
    "    ClientOpenAi = openai.OpenAI(\n",
    "            api_key= openai.api_key,\n",
    "            organization= openai.organization\n",
    "        )\n",
    "    \"\"\"\n",
    "    Data generation with Open AI\n",
    "    \"\"\"\n",
    "    prompt = (\n",
    "        \"\"\"\n",
    "        Create a list of 10 questions for an interview about a candidate.\n",
    "        Just display the results in a numbered list with no additional informations.\n",
    "        Profile is:\n",
    "        \"\"\"\n",
    "        + query\n",
    "    )\n",
    "\n",
    "    response = openai.completions.create(\n",
    "        model=\"gpt-3.5-turbo-instruct\", #we use the gpt 3.5 instruct for this task (the smallest one)\n",
    "        prompt=prompt,\n",
    "        max_tokens=4000, # max tokens for the response for your ask prompting\n",
    "        temperature=0,  # 0 to 1 by  step of 0.1 O deterministic, 1 is very creative\n",
    "    )\n",
    "\n",
    "    result = response[\"choices\"][0][\"text\"]\n",
    "\n",
    "    return result"
   ]
  },
  {
   "cell_type": "markdown",
   "id": "2741001c",
   "metadata": {},
   "source": [
    "## Testing"
   ]
  },
  {
   "cell_type": "code",
   "execution_count": 6,
   "id": "06fcbfc3",
   "metadata": {},
   "outputs": [
    {
     "name": "stdout",
     "output_type": "stream",
     "text": [
      "\n",
      "\n",
      "1. What experience do you have in selling AI solutions?\n",
      "2. What challenges have you faced in selling AI solutions?\n",
      "3. How do you stay up to date on the latest AI technologies?\n",
      "4. What strategies do you use to identify potential customers for AI solutions?\n",
      "5. How do you explain complex AI concepts to potential customers?\n",
      "6. How do you handle customer objections to AI solutions?\n",
      "7. What do you think are the most important qualities for a successful AI seller?\n",
      "8. How do you build relationships with customers to ensure long-term success?\n",
      "9. What do you think sets you apart from other AI sellers?\n",
      "10. How do you measure success when selling AI solutions?\n"
     ]
    }
   ],
   "source": [
    "prompt = \"You are an AI seller\"\n",
    "print(ask(prompt))"
   ]
  },
  {
   "cell_type": "code",
   "execution_count": 7,
   "id": "208b3fb3",
   "metadata": {},
   "outputs": [
    {
     "name": "stdout",
     "output_type": "stream",
     "text": [
      "\n",
      "\n",
      "1. What experience do you have in data science?\n",
      "2. What have been your most successful data science projects?\n",
      "3. What techniques do you use to analyze data?\n",
      "4. How do you handle large datasets?\n",
      "5. What challenges have you faced in data science?\n",
      "6. How do you stay up to date with the latest data science trends?\n",
      "7. What tools do you use for data visualization?\n",
      "8. How do you ensure the accuracy of your data?\n",
      "9. What methods do you use to optimize data models?\n",
      "10. How do you collaborate with other data scientists?\n"
     ]
    }
   ],
   "source": [
    "prompt = \"You are an advanced datascientist\"\n",
    "print(ask(prompt))"
   ]
  },
  {
   "cell_type": "code",
   "execution_count": 8,
   "id": "2b619547",
   "metadata": {},
   "outputs": [
    {
     "name": "stdout",
     "output_type": "stream",
     "text": [
      "\n",
      "\n",
      "1. What experience do you have in Deep Learning?\n",
      "2. What have been your most successful projects in Deep Learning?\n",
      "3. What challenges have you faced in Deep Learning?\n",
      "4. What techniques have you used to solve problems in Deep Learning?\n",
      "5. How have you applied Deep Learning to text analytics?\n",
      "6. What have been the most successful applications of Deep Learning to text analytics?\n",
      "7. What challenges have you faced in applying Deep Learning to text analytics?\n",
      "8. What techniques have you used to solve problems in applying Deep Learning to text analytics?\n",
      "9. What have been the most difficult problems you have solved in Deep Learning?\n",
      "10. What do you think are the most important skills for success in Deep Learning?\n"
     ]
    }
   ],
   "source": [
    "prompt = \"You are an expert in Deep Learning, especially for text analytics\"\n",
    "print(ask(prompt))"
   ]
  },
  {
   "cell_type": "code",
   "execution_count": 9,
   "id": "d7e63a43",
   "metadata": {},
   "outputs": [
    {
     "name": "stdout",
     "output_type": "stream",
     "text": [
      "\n",
      "\n",
      "1. What experience do you have in Computer Vision?\n",
      "2. What have been your most successful projects in Computer Vision?\n",
      "3. What challenges have you faced in Computer Vision?\n",
      "4. What techniques have you used to solve Computer Vision problems?\n",
      "5. How have you kept up with the latest advancements in Computer Vision?\n",
      "6. What have been your biggest successes in Computer Vision?\n",
      "7. How have you applied Computer Vision to solve real-world problems?\n",
      "8. What have been your biggest challenges in Computer Vision?\n",
      "9. What have been your most successful strategies for debugging Computer Vision algorithms?\n",
      "10. How have you used Machine Learning to improve Computer Vision algorithms?\n"
     ]
    }
   ],
   "source": [
    "prompt = \"You are an advanced Computer Vision expert\"\n",
    "print(ask(prompt))"
   ]
  },
  {
   "cell_type": "code",
   "execution_count": 10,
   "id": "ec8d27bc",
   "metadata": {},
   "outputs": [
    {
     "name": "stdout",
     "output_type": "stream",
     "text": [
      "\n",
      "\n",
      "1. What experience do you have in the financial services industry?\n",
      "2. What qualifications do you have in the financial services industry?\n",
      "3. What strategies do you use to help clients achieve their financial goals?\n",
      "4. How do you stay up to date with the latest financial trends?\n",
      "5. What do you think sets you apart from other financial advisors?\n",
      "6. How do you handle difficult conversations with clients?\n",
      "7. How do you ensure that clients understand the financial advice you provide?\n",
      "8. What strategies do you use to build relationships with clients?\n",
      "9. How do you handle complex financial situations?\n",
      "10. What do you think is the most important factor when providing financial advice?\n"
     ]
    }
   ],
   "source": [
    "prompt = \"You are a young financial advisor\"\n",
    "print(ask(prompt))"
   ]
  },
  {
   "cell_type": "code",
   "execution_count": null,
   "id": "ae6be6d4",
   "metadata": {},
   "outputs": [],
   "source": []
  }
 ],
 "metadata": {
  "kernelspec": {
   "display_name": "Python 3",
   "language": "python",
   "name": "python3"
  },
  "language_info": {
   "codemirror_mode": {
    "name": "ipython",
    "version": 3
   },
   "file_extension": ".py",
   "mimetype": "text/x-python",
   "name": "python",
   "nbconvert_exporter": "python",
   "pygments_lexer": "ipython3",
   "version": "3.11.5"
  }
 },
 "nbformat": 4,
 "nbformat_minor": 5
}
