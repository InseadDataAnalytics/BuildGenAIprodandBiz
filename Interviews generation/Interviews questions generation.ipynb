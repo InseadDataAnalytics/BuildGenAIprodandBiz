{
 "cells": [
  {
   "cell_type": "markdown",
   "id": "8a157fb8",
   "metadata": {},
   "source": [
    "# Interviews questions generation with Open AI"
   ]
  },
  {
   "cell_type": "code",
   "execution_count": 3,
   "metadata": {},
   "outputs": [],
   "source": [
    "%pip install openai --upgrade\n",
    "#%pip install dotenv\n",
    "%pip install datetime"
   ]
  },
  {
   "cell_type": "code",
   "execution_count": 1,
   "id": "e08cdbd6",
   "metadata": {},
   "outputs": [],
   "source": [
    "# import os,dotenv\n",
    "# from dotenv import load_dotenv\n",
    "import openai"
   ]
  },
  {
   "cell_type": "code",
   "execution_count": 4,
   "id": "55d27ebf",
   "metadata": {},
   "outputs": [],
   "source": [
    "# For local key \n",
    "# Import Key and Base from .env\n",
    "# load_dotenv(\"secrets.env\") \n",
    "# openai.api_key = os.getenv(\"OPENAI_API_KEY\")\n",
    "# openai.organization = os.getenv(\"OPENAI_ORGANIZATION\")\n",
    "\n",
    "# param for have result more deterministic ( 0) or creative (1) you could have step for experimentations like 0.5 \n",
    "temperature = 0\n",
    "\n",
    "from google.colab import userdata\n",
    "openai.api_key = userdata.get('OPENAI_API_KEY')\n",
    "openai.organization = userdata.get('OPENAI_ORGANIZATION')\n",
    "\n",
    "\n",
    "\n",
    "# Verify if loading is correct\n",
    "print(\"OpenAI organization : \" + openai.organization)\n"
   ]
  },
  {
   "cell_type": "markdown",
   "id": "87d3bd2b",
   "metadata": {},
   "source": [
    "## Function"
   ]
  },
  {
   "cell_type": "code",
   "execution_count": 8,
   "id": "ed7bc8a5",
   "metadata": {},
   "outputs": [],
   "source": [
    "def ask(query):\n",
    "\n",
    "    # Create the client with params for OpenAI API\n",
    "\n",
    "    ClientOpenAi = openai.OpenAI(\n",
    "            api_key= openai.api_key,\n",
    "            organization= openai.organization\n",
    "        )\n",
    "    \"\"\"\n",
    "    Data generation with Open AI\n",
    "    \"\"\"\n",
    "    prompt = (\n",
    "        \"\"\"\n",
    "        Create a list of 10 questions for an interview about a candidate.\n",
    "        Just display the results in a numbered list with no additional informations.\n",
    "        Profile is:\n",
    "        \"\"\"\n",
    "        + query\n",
    "    )\n",
    "\n",
    "    response = openai.completions.create(\n",
    "        model=\"gpt-3.5-turbo-instruct\", #we use the gpt 3.5 instruct for this task (the smallest one and only completion)\n",
    "        prompt=prompt,\n",
    "        max_tokens=4000, # max tokens for the response for your ask prompting\n",
    "        temperature=temperature,  # 0 to 1 by  step of 0.1 O deterministic, 1 is very creative\n",
    "    )\n",
    "\n",
    "    result = response.choices[0].text\n",
    "\n",
    "    return result"
   ]
  },
  {
   "cell_type": "markdown",
   "id": "2741001c",
   "metadata": {},
   "source": [
    "## Testing"
   ]
  },
  {
   "cell_type": "code",
   "execution_count": 9,
   "id": "06fcbfc3",
   "metadata": {},
   "outputs": [
    {
     "name": "stdout",
     "output_type": "stream",
     "text": [
      "\n",
      "\n",
      "1. What motivated you to apply for this position as an AI seller?\n",
      "2. Can you tell us about your previous experience in sales, specifically with AI products?\n",
      "3. How do you stay updated on the latest advancements and developments in the AI industry?\n",
      "4. Can you give an example of a successful sales pitch you have delivered for an AI product?\n",
      "5. How do you handle objections or pushback from potential customers when selling AI products?\n",
      "6. Can you walk us through your process for identifying and targeting potential clients for AI products?\n",
      "7. How do you prioritize and manage your sales pipeline for multiple AI products?\n",
      "8. How do you handle difficult or challenging customers when selling AI products?\n",
      "9. Can you tell us about a time when you had to adapt your sales approach to a specific customer's needs?\n",
      "10. How do you measure and track your success as an AI seller?\n"
     ]
    }
   ],
   "source": [
    "prompt = \"You are an AI seller\"\n",
    "print(ask(prompt))"
   ]
  },
  {
   "cell_type": "code",
   "execution_count": 10,
   "id": "208b3fb3",
   "metadata": {},
   "outputs": [
    {
     "name": "stdout",
     "output_type": "stream",
     "text": [
      " with 5 years of experience in the field.\n",
      "\n",
      "1. What motivated you to become a data scientist?\n",
      "2. Can you tell us about a particularly challenging project you have worked on in the past?\n",
      "3. How do you stay updated with the latest developments and advancements in the field of data science?\n",
      "4. Can you walk us through your approach to problem-solving in a data science project?\n",
      "5. How do you handle large and complex datasets?\n",
      "6. Can you give an example of a time when you had to communicate technical information to a non-technical audience?\n",
      "7. How do you prioritize and manage your tasks and projects?\n",
      "8. Can you tell us about a time when you had to work with a team to complete a data science project?\n",
      "9. How do you handle unexpected setbacks or challenges in a project?\n",
      "10. Can you discuss a successful data science project you have completed and the impact it had on the organization?\n"
     ]
    }
   ],
   "source": [
    "prompt = \"You are an advanced datascientist\"\n",
    "print(ask(prompt))"
   ]
  },
  {
   "cell_type": "code",
   "execution_count": 11,
   "id": "2b619547",
   "metadata": {},
   "outputs": [
    {
     "name": "stdout",
     "output_type": "stream",
     "text": [
      ".\n",
      "\n",
      "1. Can you tell us about your experience with Deep Learning and how you became an expert in this field?\n",
      "2. What motivated you to specialize in text analytics within the realm of Deep Learning?\n",
      "3. Can you walk us through a successful project you have completed using Deep Learning for text analytics?\n",
      "4. How do you stay updated on the latest advancements and techniques in Deep Learning for text analytics?\n",
      "5. Can you give an example of a challenging problem you encountered while working on a Deep Learning project and how you solved it?\n",
      "6. How do you approach data preprocessing and feature engineering for text data in Deep Learning?\n",
      "7. Can you explain the difference between supervised and unsupervised learning in the context of text analytics using Deep Learning?\n",
      "8. How do you handle imbalanced datasets in Deep Learning for text analytics?\n",
      "9. Can you discuss a time when you had to troubleshoot and debug a Deep Learning model for text analytics?\n",
      "10. How do you see the future of Deep Learning in the field of text analytics and what advancements do you anticipate?\n"
     ]
    }
   ],
   "source": [
    "prompt = \"You are an expert in Deep Learning, especially for text analytics\"\n",
    "print(ask(prompt))"
   ]
  },
  {
   "cell_type": "code",
   "execution_count": 12,
   "id": "d7e63a43",
   "metadata": {},
   "outputs": [
    {
     "name": "stdout",
     "output_type": "stream",
     "text": [
      " with 10 years of experience.\n",
      "\n",
      "1. What motivated you to pursue a career in Computer Vision?\n",
      "2. Can you tell us about a particularly challenging project you have worked on in the past?\n",
      "3. How do you stay updated with the latest advancements in Computer Vision technology?\n",
      "4. Can you walk us through your experience with developing algorithms for object detection?\n",
      "5. How do you approach problem-solving in a team setting?\n",
      "6. Can you give an example of a time when you had to troubleshoot and debug a complex computer vision system?\n",
      "7. How do you handle unexpected setbacks or challenges during a project?\n",
      "8. Can you discuss your experience with implementing deep learning techniques in Computer Vision?\n",
      "9. How do you ensure the accuracy and reliability of your computer vision models?\n",
      "10. Can you tell us about a time when you had to communicate technical information to a non-technical audience?\n"
     ]
    }
   ],
   "source": [
    "prompt = \"You are an advanced Computer Vision expert\"\n",
    "print(ask(prompt))"
   ]
  },
  {
   "cell_type": "code",
   "execution_count": 13,
   "id": "ec8d27bc",
   "metadata": {},
   "outputs": [
    {
     "name": "stdout",
     "output_type": "stream",
     "text": [
      " with a degree in economics and a passion for investments.\n",
      "\n",
      "1. What inspired you to pursue a career in finance and investments?\n",
      "2. How has your degree in economics prepared you for this role?\n",
      "3. Can you tell us about a successful investment decision you have made in the past?\n",
      "4. How do you stay updated on current market trends and changes?\n",
      "5. How do you handle risk management in your investment strategies?\n",
      "6. Can you walk us through your process for analyzing potential investments?\n",
      "7. How do you prioritize and manage your workload in a fast-paced environment?\n",
      "8. Can you give an example of a time when you had to make a difficult financial decision?\n",
      "9. How do you handle conflicts or disagreements with clients or colleagues?\n",
      "10. What do you see as the biggest challenge facing the financial industry in the next 5 years?\n"
     ]
    }
   ],
   "source": [
    "prompt = \"You are a young financial advisor\"\n",
    "print(ask(prompt))"
   ]
  },
  {
   "cell_type": "code",
   "execution_count": null,
   "id": "ae6be6d4",
   "metadata": {},
   "outputs": [],
   "source": []
  }
 ],
 "metadata": {
  "kernelspec": {
   "display_name": "Python 3",
   "language": "python",
   "name": "python3"
  },
  "language_info": {
   "codemirror_mode": {
    "name": "ipython",
    "version": 3
   },
   "file_extension": ".py",
   "mimetype": "text/x-python",
   "name": "python",
   "nbconvert_exporter": "python",
   "pygments_lexer": "ipython3",
   "version": "3.11.5"
  }
 },
 "nbformat": 4,
 "nbformat_minor": 5
}
