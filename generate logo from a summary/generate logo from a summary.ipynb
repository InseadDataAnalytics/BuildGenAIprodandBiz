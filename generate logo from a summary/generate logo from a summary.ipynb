{
 "cells": [
  {
   "cell_type": "markdown",
   "metadata": {},
   "source": [
    "# Generate a logo from a summary with DallE\n",
    "- File output resolution are depending from the model selection\n",
    " - for dalle-e-3 the resolution maximum for dall-e-2 is 1024x1024\n",
    " - for dall-e-3 there are some new params like quality ( \"standard\" or \"hd\" ) and style (\"natural\" or \"vivid\"), the minimum size is 1024x1024"
   ]
  },
  {
   "cell_type": "code",
   "execution_count": null,
   "metadata": {},
   "outputs": [],
   "source": [
    "%pip install openai --upgrade\n",
    "%pip install dotenv #for local testing"
   ]
  },
  {
   "cell_type": "code",
   "execution_count": 1,
   "metadata": {},
   "outputs": [],
   "source": [
    "import os, dotenv\n",
    "from dotenv import load_dotenv # to load .env file\n",
    "import openai, datetime, json, requests,os\n",
    "from openai import OpenAI\n",
    "from PIL import Image"
   ]
  },
  {
   "cell_type": "code",
   "execution_count": 3,
   "metadata": {},
   "outputs": [],
   "source": [
    "openai.dalle_model = \"dall-e-3\" #you could choose \"dall-e-3\" or \"dall-e-2\n",
    "\n",
    "# For local\n",
    "# Import Key and Base from .env\n",
    "#load_dotenv(\"secrets.env\") \n",
    "#openai.api_key = os.getenv(\"OPENAI_API_KEY\")\n",
    "#openai.organization = os.getenv(\"OPENAI_ORGANIZATION\")\n",
    "\n",
    "\n",
    "# param for have result more deterministic ( 0) or creative (1) you could have step for experimentations like 0.5 \n",
    "temperature = 0\n",
    "\n",
    "#for google Colab use\n",
    "from google.colab import userdata, files\n",
    "openai.api_key = userdata.get('OPENAI_API_KEY')\n",
    "#openai.organization = userdata.get('OPENAI_ORGANIZATION')\n",
    "# Verify if loading is correct\n",
    "# print(\"Your OpenAI organization : \" + openai.organization)\n"
   ]
  },
  {
   "cell_type": "markdown",
   "metadata": {},
   "source": [
    "## Directory to save the generated images"
   ]
  },
  {
   "cell_type": "code",
   "execution_count": 6,
   "metadata": {},
   "outputs": [],
   "source": [
    "#local \n",
    "#images_dir = \"images\"\n",
    "#os.makedirs(images_dir, exist_ok=True)\n",
    "\n",
    "\n",
    "# google colab files\n",
    "!mkdir images\n",
    "images_dir = \"content/images\""
   ]
  },
  {
   "cell_type": "code",
   "execution_count": 7,
   "metadata": {},
   "outputs": [],
   "source": [
    "# We create a client instance for openAI\n",
    "client = OpenAI(\n",
    "    api_key=openai.api_key,\n",
    "    #organization=openai.organization\n",
    ")"
   ]
  },
  {
   "cell_type": "markdown",
   "metadata": {},
   "source": [
    "## Your idea for this logo"
   ]
  },
  {
   "cell_type": "code",
   "execution_count": 8,
   "metadata": {},
   "outputs": [],
   "source": [
    "# Modify the text below to generate your own logo\n",
    "yourIdea = \"a horse with a shield and a sword with the named defHorsey\"\n",
    "\n",
    "#params for DallE\n",
    "dalleStyle = \"natural\" # or vivid only for dalle-3\n",
    "dalleQuality = \"hd\" # or standard only for dalle-3\n",
    "dalleSize = \"1024x1024\" # for dalle-2, you could choose 256x256, 512x512, 1024x1024 / for Dalle-3,  1024x1024, 1792x1024, 1024x1792\n"
   ]
  },
  {
   "cell_type": "code",
   "execution_count": 9,
   "metadata": {},
   "outputs": [],
   "source": [
    "#the prompt system in order to create a logo from a summary\n",
    "\n",
    "promptSystem  = \"\"\"You are a prompt engineer specialized in logo generation. You are working for a company who wants a new logo from a summary and a idea\n",
    "you have to be creative in order to generate a logo that is unique and that will be used by the company for their branding. you could give a detailled description in order to use a text to image model\n",
    "you will use this idea to generate a logo in\"\"\""
   ]
  },
  {
   "cell_type": "code",
   "execution_count": 10,
   "metadata": {},
   "outputs": [
    {
     "name": "stdout",
     "output_type": "stream",
     "text": [
      "Logo Description:\n",
      "\n",
      "The logo will be a circular emblem, giving it a classic and timeless feel. The main element of the logo will be a majestic horse, standing tall and proud in the center. The horse will be stylized, not too detailed but enough to clearly identify it as a horse. It will be in a dynamic pose, as if it's ready to charge into battle, symbolizing strength and determination.\n",
      "\n",
      "The horse will be in a rich, dark brown color, with lighter shades to highlight its muscles and features, giving it a 3D effect. The horse's mane and tail will be flowing, adding a sense of motion to the logo.\n",
      "\n",
      "To the left of the horse, there will be a shield. The shield will be in a traditional shape, slightly curved and pointed at the bottom. It will be in a metallic silver color, with a few scratches and dents to show it's been in battle, symbolizing protection and resilience.\n",
      "\n",
      "To the right of the horse, there will be a sword. The sword will be upright, with the blade pointing upwards. It will also be in a metallic silver color, with a golden hilt for contrast. The sword symbolizes power and courage.\n",
      "\n",
      "Behind the horse, shield, and sword, there will be a background of a light blue color, providing a nice contrast and making the main elements stand out.\n",
      "\n",
      "At the bottom of the logo, following the curve of the circle, there will be the company name \"defHorsey\". The font will be bold and simple, easy to read. The color of the text will be a deep, royal blue, matching with the background but dark enough to be clearly visible.\n",
      "\n",
      "Overall, the logo will convey a sense of strength, protection, and courage, perfectly representing the company's values and mission.\n"
     ]
    }
   ],
   "source": [
    "model =  \"gpt-4\"  #you could choose gpt-4 /gpt-4-32k / gpt-3.5-turbo / gpt-3.5-turbo-16k\n",
    "\n",
    "response = client.chat.completions.create(\n",
    "    model=model,\n",
    "    n=1,\n",
    "    temperature=temperature, # 0 to 1 by  step of 0.1 - O for  deterministic result, 1 is very creative\n",
    "    messages=[\n",
    "            {\"role\": \"system\", \"content\": promptSystem},\n",
    "            {\"role\": \"user\", \"content\": yourIdea},\n",
    "        ],\n",
    "    )\n",
    "    \n",
    "promptImage = response.choices[0].message.content\n",
    "\n",
    "print(promptImage)"
   ]
  },
  {
   "cell_type": "markdown",
   "metadata": {},
   "source": [
    "### Generating image from the prompt"
   ]
  },
  {
   "cell_type": "code",
   "execution_count": 11,
   "metadata": {},
   "outputs": [
    {
     "name": "stdout",
     "output_type": "stream",
     "text": [
      "images\\a horse with a shield and a sword with the named d_19nov2023_165201.png\n",
      "\n",
      "Image saved: images\\a horse with a shield and a sword with the named d_19nov2023_165201.png\n"
     ]
    }
   ],
   "source": [
    "#we will use the prompt image from the prompt engineer to generate the logo\n",
    " \n",
    "result = client.images.generate(\n",
    "        prompt=promptImage,\n",
    "        size=dalleSize,\n",
    "        n=1,\n",
    "        model=openai.dalle_model,\n",
    "        style=dalleStyle,\n",
    "        quality=dalleQuality,\n",
    ")\n",
    "\n",
    "results = json.loads(result.model_dump_json())\n",
    "# Getting the url image (only the first one because n=1 )\n",
    "\n",
    "dalleimage = requests.get(results[\"data\"][0][\"url\"]).content\n",
    "\n",
    "# Saving the image as a local file\n",
    "\n",
    "dt = str(datetime.datetime.today().strftime(\"%d%b%Y_%H%M%S\").lower())\n",
    "image_file = os.path.join(\n",
    "        images_dir, yourIdea[:50].replace(\",\", \" \") + \"_\" + dt + \".png\"\n",
    "    )\n",
    "with open(image_file, \"wb\") as imagefile:\n",
    "    imagefile.write(dalleimage)\n",
    "\n",
    "print(f\"\\nImage saved: {image_file}\")\n",
    "\n",
    "# Return the image as a PIL image file\n",
    "img = Image.open(image_file)\n",
    "\n",
    "img.show()"
   ]
  }
 ],
 "metadata": {
  "kernelspec": {
   "display_name": "Python 3",
   "language": "python",
   "name": "python3"
  },
  "language_info": {
   "codemirror_mode": {
    "name": "ipython",
    "version": 3
   },
   "file_extension": ".py",
   "mimetype": "text/x-python",
   "name": "python",
   "nbconvert_exporter": "python",
   "pygments_lexer": "ipython3",
   "version": "3.11.5"
  }
 },
 "nbformat": 4,
 "nbformat_minor": 2
}
