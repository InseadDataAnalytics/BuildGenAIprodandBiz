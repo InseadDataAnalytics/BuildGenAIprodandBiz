{
 "cells": [
  {
   "cell_type": "markdown",
   "metadata": {},
   "source": [
    "# Extract & postprocessing transcribe with whisper model\n",
    "## File uploads are currently limited to 25 MB and the following input file types are supported: mp3, mp4, mpeg, mpga, m4a, wav, and webm."
   ]
  },
  {
   "cell_type": "code",
   "execution_count": null,
   "metadata": {},
   "outputs": [],
   "source": [
    "#%pip install openai --upgrade\n",
    "#%pip install dotenv\n",
    "#%pip install datetime\n",
    "#%pip install pydub\n",
    "%pip install moviepy"
   ]
  },
  {
   "cell_type": "code",
   "execution_count": 14,
   "metadata": {},
   "outputs": [],
   "source": [
    "import datetime\n",
    "import os,sys, openai\n",
    "from openai import OpenAI\n",
    "from dotenv import load_dotenv\n",
    "from pydub import AudioSegment #in case you need to decrease audio files/cut\n",
    "from moviepy.editor import AudioFileClip"
   ]
  },
  {
   "cell_type": "code",
   "execution_count": 15,
   "metadata": {},
   "outputs": [
    {
     "name": "stdout",
     "output_type": "stream",
     "text": [
      "OpenAI API Organization : org-s2vfZ66mFlueBZk17Rl7dhRU\n"
     ]
    }
   ],
   "source": [
    "load_dotenv(\"secrets.env\")\n",
    "\n",
    "# Import Key and Base from .env\n",
    "openai.api_key = os.getenv(\"OPENAI_API_KEY\")\n",
    "openai.api_base = os.getenv(\"OPENAI_API_BASE\") #not relevant with the new library\n",
    "openai.whisper_model = \"whisper-1\"\n",
    "openai.organization = os.getenv(\"OPENAI_ORGANIZATION\")\n",
    "\n",
    "print(\"OpenAI API Organization : \" + openai.organization)\n"
   ]
  },
  {
   "cell_type": "code",
   "execution_count": 16,
   "metadata": {},
   "outputs": [],
   "source": [
    "# We create a client instance for openAI\n",
    "client = OpenAI(\n",
    "    api_key=openai.api_key,\n",
    "    organization=openai.organization\n",
    ")\n"
   ]
  },
  {
   "cell_type": "markdown",
   "metadata": {},
   "source": [
    "# if your file video is higher than 25 mo - launch this cell"
   ]
  },
  {
   "cell_type": "code",
   "execution_count": 18,
   "metadata": {},
   "outputs": [
    {
     "name": "stdout",
     "output_type": "stream",
     "text": [
      "MoviePy - Writing audio in ../vids/output.mp3\n"
     ]
    },
    {
     "name": "stderr",
     "output_type": "stream",
     "text": [
      "                                                                      "
     ]
    },
    {
     "name": "stdout",
     "output_type": "stream",
     "text": [
      "MoviePy - Done.\n"
     ]
    },
    {
     "name": "stderr",
     "output_type": "stream",
     "text": [
      "\r"
     ]
    }
   ],
   "source": [
    "\n",
    "def extract_audio_from_mp4(video_path, output_path):\n",
    "    video = AudioFileClip(video_path)\n",
    "    video.write_audiofile(output_path, bitrate=\"64k\")\n",
    "\n",
    "# Usage\n",
    "extract_audio_from_mp4(\"../vids/interview.mp4\", \"../vids/output.mp3\")"
   ]
  },
  {
   "cell_type": "markdown",
   "metadata": {},
   "source": [
    "## If you want a transcribe in current language use this cell"
   ]
  },
  {
   "cell_type": "code",
   "execution_count": 22,
   "metadata": {},
   "outputs": [
    {
     "name": "stdout",
     "output_type": "stream",
     "text": [
      "Καλησπέρα όλοι και καλώς ήρθατε στο νέο ΜΒΑ Ελεκτρικό Επιτροπή Προϊόντας Gen.AI Προϊόντας και επιχειρήσεις. Είμαι ο Θεός Ευγενίου και ελπίζομαι να σας δω την επόμενη εβδομάδα σε αυτό το σχόλιο. Αυτό είναι μόνο ένα βίντεο που θα κάνουμε όλοι. Πρέπει να είναι λιγότερο από ένα λεπτό και να περάσω μερικές ερωτήσεις που σας έδωσα μέσω e-mail. Θα σας δώσω ένα παράδειγμα, θα περάσω τις ερωτήσεις μόνος μου. Η πρώτη ερώτηση είναι το όνομα, το κεφάλαιο, το σημαντικό ρόλο πριν στο ΙΝΣΙΑΔ. Ονομάζομαι ο Θεός Ευγενίου, το κεφάλαιο μου είναι τεχνολογία και κοινωνική επιχειρήματα και είμαι στο ΙΝΣΙΑΔ από το 2001. Η δεύτερη ερώτηση είναι, τι είναι οι δύο δυνατό ρόλοι, εργασίες που θέλω να δουλέψω στο επόμενο ή αν έχω ήδη εργασία, τι ρόλο θα συμμετέχω στο επόμενο. Σε αυτό το περίπτωσο, θα παραμείνω δέντρος στο ΙΝΣΙΑΔ. Τι είναι οι δύο δυνατό ρόλοι που θέλω να δουλέψω στο επόμενο. Ας ελπίζουμε να έχουμε πάνω από δύο. Στην πλευρά μου, η κυρίαρη επιτυχία θα είναι, αν συλλογικά, με την συμμετοχή μαζί, θα έχουμε μια καλύτερη, πιο πρακτική, πιο προετοιμασμένη και πιο σωστή θέα του GEN AI και για το τι σημαίνει για το επιχειρήμα και την κοινωνία. Και η μεγάλη επιτυχία θα είναι αν κάποιοι από εσάς ολοκληρώνουν κάποιες προϊόντα και επιχειρήσεις που θα δουλέψετε κατά τη διάρκεια αυτού του δρόμου. Ελπίζω, ακόμα και με βοήθεια από κάποιους από τους συμμετοχούς που συμμετέχουν στο δρόμο, αλλά και από άλλους. Έχετε κάποια εμπειρία με το πυθόν ή άλλα, είναι η ερώτηση 4. Έχω κωδικοποιήσει κάποια στιγμή στη ζωή μου, ακόμα και δεν είμαι ένας πολύ καλός πυθόν κωδικός. Νούμερο 5. Ένα ενδιαφέρον αρτικό ή ιδέα ή κόνσετ που έκανα πρόσφατα σχετικά με την A.I. Παρακαλώ σχεδιάστε. Στην κατάστασή μου, έχω σχεδιάσει πολλές από αυτές στη συλλαβή. Σας ευχαριστώ ξανά και ελπίζω να σας δω την επόμενη εβδομάδα στην σχέση.\n",
      "\n"
     ]
    }
   ],
   "source": [
    "\n",
    "filepath = \"../vids/output.mp3\"\n",
    "audio_file= open(filepath, \"rb\")\n",
    "transcript = client.audio.transcriptions.create(\n",
    "  model=openai.whisper_model, \n",
    "  file=audio_file,\n",
    "  response_format=\"text\"\n",
    ")\n",
    "\n",
    "print(transcript)"
   ]
  },
  {
   "cell_type": "markdown",
   "metadata": {},
   "source": [
    "## If you want a translate in english text use this cell\n",
    "For the languages possibles to translate check this link in openAi page [page](https://platform.openai.com/docs/guides/speech-to-text/supported-languages)"
   ]
  },
  {
   "cell_type": "code",
   "execution_count": 21,
   "metadata": {},
   "outputs": [
    {
     "name": "stdout",
     "output_type": "stream",
     "text": [
      "Καλησπέρα όλοι και καλώς ήρθατε στο νέο ΜΒΑ Ελεκτρικό Επιτροπή Προϊόντας Gen.AI Προϊόντας και επιχειρήσεις. Είμαι ο Θεός Ευγενίου και ελπίζομαι να σας δω την επόμενη εβδομάδα σε αυτό το δρόμο. Αυτό είναι μόνο ένα πρόγραμμα βίντεο που θα κάνουμε όλοι. Πρέπει να είναι λιγότερο από ένα λεπτό και να περάσω μερικές ερωτήσεις που σας έδωσα μέσω e-mail. Θα σας δώσω ένα παράδειγμα, θα περάσω τις ερωτήσεις μόνος μου. Το όνομά μου είναι Θεός Ευγενίου, τα κυριαρχικά δίκαια μου είναι τεχνογραφία και τεχνογραφία, και είμαι στο ΙΣΙΑΔ από το 2001. Δεύτερη ερώτηση. Ποια είναι οι δύο σημαντικές ρόλες, εργασίες, εργασίες που θέλω να δουλέψω στο επόμενο ή αν έχω ήδη εργασία, ποιο ρόλο θα συμμετέχω στο επόμενο. Σε αυτό το περίπτωσέ μου θα παραμείνω προφητείς στο ΙΣΙΑΔ στο επόμενο. Ποια είναι οι δύο σημαντικές ρόλες που θέλω να δουλέψω στο επόμενο. Ας ελπίζουμε να έχουμε περισσότερα από τα δύο. Στην πλευρά μου, το κομμάτι της επιτυχίας θα είναι αν συλλογικά, με την συμμετοχή, θα έχουμε μια καλύτερη, πιο πρακτική, πιο προσεκτική και πιο σωστή θέα για το GEN-AI και για το τι σημαίνει για το επιχειρήμα και την κοινωνία. Και η μεγάλη επιτυχία θα είναι αν κάποιοι από εσάς θα συνεχίσουν να κατασκευάσουν κάποιες από τις προϊόντας και επιχειρήσεις που θα δουλέψετε κατά τη διάρκεια αυτού του δρόμου. Ελπίζω, ακόμα και με βοήθεια από κάποιους από τους συμμετοχούς που συμμετέχουν στο δρόμο. Αλλά επίσης και από άλλους. Είχατε κάποια εμπειρία κωδικώντας με το Python ή άλλα. Είναι η ερώτηση 4. Είχα κωδικώντας κάποια στιγμή στη ζωή μου, ακόμα και δεν είμαι ένας πολύ καλός κωδικός Python. Νούμερο 5. Ένα ενδιαφέρουσιο αρτικό ή ιδέα ή κόνσετ που έπρεπε να διαβάζετε πρόσφατα σχετικά με την AI. Παρακαλώ, συμμετείχτε. Στην κατάστασή μου, έχω συμμετείχει κάποια από αυτά στη συλλαβή. Ευχαριστώ ακόμα και ελπίζω να σας δω την επόμενη εβδομάδα στην σχέση.\n",
      "\n"
     ]
    }
   ],
   "source": [
    "filepath = \"../vids/output.mp3\"\n",
    "audio_file= open(filepath, \"rb\")\n",
    "translation = client.audio.translations.create(\n",
    "  model=openai.whisper_model,\n",
    "  file=audio_file,\n",
    "  response_format=\"text\"\n",
    ")\n",
    "\n",
    "print(transcript)"
   ]
  },
  {
   "cell_type": "markdown",
   "metadata": {},
   "source": [
    "## Now we can process directly the result for the transcription / translation with Gpt"
   ]
  }
 ],
 "metadata": {
  "kernelspec": {
   "display_name": "Python 3",
   "language": "python",
   "name": "python3"
  },
  "language_info": {
   "codemirror_mode": {
    "name": "ipython",
    "version": 3
   },
   "file_extension": ".py",
   "mimetype": "text/x-python",
   "name": "python",
   "nbconvert_exporter": "python",
   "pygments_lexer": "ipython3",
   "version": "3.11.5"
  }
 },
 "nbformat": 4,
 "nbformat_minor": 2
}
