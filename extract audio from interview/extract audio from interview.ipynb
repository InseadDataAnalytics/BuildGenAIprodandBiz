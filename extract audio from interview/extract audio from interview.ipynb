{
 "cells": [
  {
   "cell_type": "markdown",
   "metadata": {},
   "source": [
    "# Extract & postprocessing transcribe with whisper model\n",
    "## File uploads are currently limited to 25 MB and the following input file types are supported: mp3, mp4, mpeg, mpga, m4a, wav, and webm."
   ]
  },
  {
   "cell_type": "code",
   "execution_count": null,
   "metadata": {},
   "outputs": [],
   "source": [
    "%pip install openai --upgrade\n",
    "#%pip install dotenv for local testing\n",
    "%pip install pydub\n",
    "%pip install moviepy"
   ]
  },
  {
   "cell_type": "code",
   "execution_count": 14,
   "metadata": {},
   "outputs": [],
   "source": [
    "import datetime, openai\n",
    "from openai import OpenAI\n",
    "#from dotenv import load_dotenv\n",
    "from pydub import AudioSegment #in case you need to decrease audio files/cut\n",
    "from moviepy.editor import AudioFileClip"
   ]
  },
  {
   "cell_type": "code",
   "execution_count": null,
   "metadata": {},
   "outputs": [],
   "source": [
    "# For local\n",
    "# Import Key and Base from .env\n",
    "#openai.api_key = os.getenv(\"OPENAI_API_KEY\")\n",
    "#openai.organization = os.getenv(\"OPENAI_ORGANIZATION\")\n",
    "# load_dotenv(\"secrets.env\") \n",
    "\n",
    "from google.colab import userdata\n",
    "openai.api_key = userdata.get('OPENAI_API_KEY')\n",
    "openai.organization = userdata.get('OPENAI_ORGANIZATION')\n",
    "openai.whisper_model = \"whisper-1\"\n",
    "# Verify if load dotenvi correct\n",
    "print(\"OpenAI organization : \" + openai.organization)\n"
   ]
  },
  {
   "cell_type": "code",
   "execution_count": 23,
   "metadata": {},
   "outputs": [],
   "source": [
    "# We create a client instance for openAI\n",
    "client = OpenAI(\n",
    "    api_key=openai.api_key,\n",
    "    organization=openai.organization\n",
    ")\n"
   ]
  },
  {
   "cell_type": "code",
   "execution_count": null,
   "metadata": {},
   "outputs": [],
   "source": [
    "# Usage to extract audio from a video mp4\n",
    "# local pathFile = \"../vids/interview.mp4\" output_path = \"../vids/output.mp3\"\n",
    "\n",
    "inputFile = \"/content/interview.mp4\"\n",
    "fileMp3 = \"/content/output.mp3\""
   ]
  },
  {
   "cell_type": "code",
   "execution_count": 24,
   "metadata": {},
   "outputs": [
    {
     "name": "stdout",
     "output_type": "stream",
     "text": [
      "MoviePy - Writing audio in ../vids/output.mp3\n"
     ]
    },
    {
     "name": "stderr",
     "output_type": "stream",
     "text": [
      "                                                                      "
     ]
    },
    {
     "name": "stdout",
     "output_type": "stream",
     "text": [
      "MoviePy - Done.\n"
     ]
    },
    {
     "name": "stderr",
     "output_type": "stream",
     "text": [
      "\r"
     ]
    }
   ],
   "source": [
    "\n",
    "def extract_audio_from_mp4(video_path, output_path):\n",
    "    video = AudioFileClip(video_path)\n",
    "    video.write_audiofile(output_path, bitrate=\"64k\")\n",
    "\n",
    "extract_audio_from_mp4(inputFile, fileMp3)"
   ]
  },
  {
   "cell_type": "markdown",
   "metadata": {},
   "source": [
    "## If you want transcribe the audio file - use this cell - if the person have a strong accent or very noisy background it could be messy - try translation"
   ]
  },
  {
   "cell_type": "code",
   "execution_count": 25,
   "metadata": {},
   "outputs": [
    {
     "name": "stdout",
     "output_type": "stream",
     "text": [
      "Καλησπέρα όλοι και καλώς ήρθατε στο νέο ΜΒΑ Ελεκτρικό Επιτροπή Προϊόντας Gen.AI Προϊόντας και επιχειρήσεις. Είμαι ο Θεός Ευγενίου και ελπίζομαι να σας δω την επόμενη εβδομάδα σε αυτό το δρόμο. Αυτό είναι μόνο ένα πρόγραμμα βίντεο που θα κάνουμε όλοι. Πρέπει να είναι λιγότερο από ένα λεπτό και να περάσω μερικές ερωτήσεις που σας έδωσα μέσω e-mail. Θα σας δώσω ένα παράδειγμα, θα περάσω τις ερωτήσεις μόνος μου. Το όνομά μου είναι Θεός Ευγενίου, τα κυριαρχικά δίκαια μου είναι τεχνογραφία και τεχνογραφία, και είμαι στο ΙΣΙΑΔ από το 2001. Δεύτερη ερώτηση. Ποια είναι οι δύο σημαντικές ρόλες, εργασίες, εργασίες που θέλω να δουλέψω στο επόμενο ή αν έχω ήδη εργασία, ποιο ρόλο θα συμμετέχω στο επόμενο. Σε αυτό το περίπτωσέ μου θα παραμείνω προφητείς στο ΙΣΙΑΔ στο επόμενο. Ποια είναι οι δύο σημαντικές ρόλες που θέλετε να αποκάλυψετε από το δρόμο σας. Ως εγώ, η κυριαρχική σημασία θα είναι η αν συλλογικά, με την συναλλαγή, θα έχουμε μια καλύτερη, πιο πρακτική, πιο προσεκτική και πιο σωστή οπτική του GEN-AI και το τι σημαίνει για το επιχειρήμα και την κοινωνία. Και η μεγάλη επιτυχία θα είναι αν κάποιοι από εσάς καταλήξουν να δουλέψουν κάποιες από τις προϊόντες και επιχειρήματα και επιχειρήματα που θα δουλέψετε κατά τη διάρκεια αυτού του δρόμου. Ελπίζοντας ακόμα και με βοήθεια από κάποιους από τους συνεργάτες που συνεργάζονται στο δρόμο, αλλά επίσης και από άλλους. Είχατε κάποια εμπειρία με το πυθόν ή άλλα πράγματα, είναι η ερώτηση 4. Έχω δουλέψει για αρκετά χρόνια στη ζωή μου, ακόμα και δεν είμαι ένας πολύ καλός πυθόν κωδικός. Στην πραγματικότητα, είμαι πολύ κακός. Νούμερο 5, ένα ενδιαφέρουσιο αρτίκλο, ιδέα ή κόνσετ που έκανες σχετικά με την AI. Παρακαλώ, στην περίπτωσή μου, παρακαλώ, έχω παρακολουθήσει αρκετά από αυτούς τους στους συλλαβούς. Σας ευχαριστώ και ελπίζω να σας δω την επόμενη εβδομάδα.\n",
      "\n"
     ]
    }
   ],
   "source": [
    "translation = None\n",
    "audio_file= open(fileMp3, \"rb\")\n",
    "transcript = client.audio.transcriptions.create(\n",
    "  model=openai.whisper_model, \n",
    "  file=audio_file,\n",
    "  response_format=\"text\"\n",
    ")\n",
    "\n",
    "print(transcript)"
   ]
  },
  {
   "cell_type": "markdown",
   "metadata": {},
   "source": [
    "## If you want a translation in english text - use this cell\n",
    "For the languages possibles to translate check this link in openAi page [page](https://platform.openai.com/docs/guides/speech-to-text/supported-languages)"
   ]
  },
  {
   "cell_type": "code",
   "execution_count": 33,
   "metadata": {},
   "outputs": [
    {
     "name": "stdout",
     "output_type": "stream",
     "text": [
      "Hello everybody and welcome to the new MBA elective, Building Gen AI Products and Businesses. I'm Theos Evgeniou and I'm looking forward to seeing you next week in this course. This is just an intro video recording that all of us will do. It's supposed to be less than one minute and go through a few questions I sent you by email. Let me give you an example, I'm going to go through the questions myself. First question is name, main degree, key role before INSEAD. My name is Theos Evgeniou, my main degree is in engineering and computer science and I've been at INSEAD since 2001. Second question, what are the two potential roles, jobs, industries I wish to work on next or if I already have a job, what role do I join next? In my case, I will remain a professor at INSEAD next. What are the top two outcomes you wish to get out of the course? Well, hopefully you have more than two. From my side, the main objective success will look like if we collectively by exchanging with each other, we all gain a better, more practical, more up to date and more sober view of Gen AI and what it means for business and society. And the big success will be if some of you end up building some of the products and businesses that you will work on during this course. Hopefully even with funding from some of the partner VCs that are joining the course, but also others. Do you have any experience coding with Python or others? Question number four. I've been coding for quite some time in my life, although I'm not a really good Python coder. Actually, I'm pretty bad at that. Number five, an interesting article or idea or concept you read about recently regarding Gen AI, please share. In my case, I shared quite a few of them in the syllabus. Thank you again and looking forward to seeing you next week in class.\n",
      "\n"
     ]
    }
   ],
   "source": [
    "transcript = None\n",
    "audio_file= open(fileMp3, \"rb\")\n",
    "translation = client.audio.translations.create(\n",
    "  model=openai.whisper_model,\n",
    "  file=audio_file,\n",
    "  response_format=\"text\"\n",
    ")\n",
    "\n",
    "print(translation)"
   ]
  },
  {
   "cell_type": "markdown",
   "metadata": {},
   "source": [
    "## Process the result for the transcribe / translation with Model/instrauctions"
   ]
  },
  {
   "cell_type": "code",
   "execution_count": 34,
   "metadata": {},
   "outputs": [
    {
     "name": "stdout",
     "output_type": "stream",
     "text": [
      "Prompt from transcribe / translation : Hello everybody and welcome to the new MBA elective, Building Gen AI Products and Businesses. I'm Theos Evgeniou and I'm looking forward to seeing you next week in this course. This is just an intro video recording that all of us will do. It's supposed to be less than one minute and go through a few questions I sent you by email. Let me give you an example, I'm going to go through the questions myself. First question is name, main degree, key role before INSEAD. My name is Theos Evgeniou, my main degree is in engineering and computer science and I've been at INSEAD since 2001. Second question, what are the two potential roles, jobs, industries I wish to work on next or if I already have a job, what role do I join next? In my case, I will remain a professor at INSEAD next. What are the top two outcomes you wish to get out of the course? Well, hopefully you have more than two. From my side, the main objective success will look like if we collectively by exchanging with each other, we all gain a better, more practical, more up to date and more sober view of Gen AI and what it means for business and society. And the big success will be if some of you end up building some of the products and businesses that you will work on during this course. Hopefully even with funding from some of the partner VCs that are joining the course, but also others. Do you have any experience coding with Python or others? Question number four. I've been coding for quite some time in my life, although I'm not a really good Python coder. Actually, I'm pretty bad at that. Number five, an interesting article or idea or concept you read about recently regarding Gen AI, please share. In my case, I shared quite a few of them in the syllabus. Thank you again and looking forward to seeing you next week in class.\n",
      "\n"
     ]
    }
   ],
   "source": [
    "model = \"gpt-4\" # you can change the model here with gpt-4 /gpt-4-32k / gpt-3.5-turbo / gpt-3.5-turbo-16k\n",
    "\n",
    "# Create the client with params for OpenAI API\n",
    "if transcript is not None:\n",
    "    prompt = transcript\n",
    "elif translation is not None:\n",
    "    prompt = translation\n",
    "else:\n",
    "    prompt = \"\"  # Assign an empty string if both transcript and translation are None\n",
    "\n",
    "print(\"Prompt from transcribe / translation : \" + prompt)"
   ]
  },
  {
   "cell_type": "code",
   "execution_count": 39,
   "metadata": {},
   "outputs": [],
   "source": [
    "#Change it if you want to have a different point of view\n",
    "promptSystem = \"\"\"You are a conselor who has received this transcript from a student who is applying for an MBA,\n",
    " you have to describe what it's going on, you have to be precise , \n",
    " extract the name of the person , make a short summary and spotligh on the differnt informations give by the person\n",
    " You could also give an advice on what do you think about the presentation \n",
    " in the context of the MBA \"\"\"\n",
    "\n"
   ]
  },
  {
   "cell_type": "code",
   "execution_count": 40,
   "metadata": {},
   "outputs": [
    {
     "name": "stdout",
     "output_type": "stream",
     "text": [
      "The speaker in the transcript is Theos Evgeniou, a professor at INSEAD. He is introducing a new MBA elective course, Building Gen AI Products and Businesses. He is using this video to answer a set of questions he had previously sent to his students via email.\n",
      "\n",
      "Theos has a background in engineering and computer science and has been with INSEAD since 2001. He plans to continue his role as a professor at INSEAD. His main objective for the course is to provide a practical, up-to-date, and sober view of Gen AI and its implications for business and society. He hopes that some students will even go on to build products and businesses based on what they learn in the course, potentially with funding from partner venture capitalists.\n",
      "\n",
      "Theos also mentions his coding experience, noting that while he has coded for a significant portion of his life, he is not particularly skilled at Python. He encourages students to share interesting articles or ideas about Gen AI, noting that he has shared several in the course syllabus.\n",
      "\n",
      "In terms of presentation, Theos does a good job of introducing himself and setting expectations for the course. However, he could improve by providing more specific examples or details about the course content and structure. This would give prospective students a clearer idea of what to expect and how the course could benefit them.\n"
     ]
    }
   ],
   "source": [
    "\n",
    "response = ClientOpenAi.chat.completions.create(\n",
    "        model=model,\n",
    "        n=1,\n",
    "        temperature=0, # 0 to 1 by  step of 0.1 - O for  deterministic result, 1 is very creative\n",
    "        messages=[\n",
    "            {\"role\": \"system\", \"content\": promptSystem},\n",
    "            {\"role\": \"user\", \"content\": prompt},\n",
    "        ],\n",
    "    )\n",
    "\n",
    "print(response.choices[0].message.content)"
   ]
  }
 ],
 "metadata": {
  "kernelspec": {
   "display_name": "Python 3",
   "language": "python",
   "name": "python3"
  },
  "language_info": {
   "codemirror_mode": {
    "name": "ipython",
    "version": 3
   },
   "file_extension": ".py",
   "mimetype": "text/x-python",
   "name": "python",
   "nbconvert_exporter": "python",
   "pygments_lexer": "ipython3",
   "version": "3.11.5"
  }
 },
 "nbformat": 4,
 "nbformat_minor": 2
}
